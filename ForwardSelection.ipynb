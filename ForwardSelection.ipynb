{
 "cells": [
  {
   "cell_type": "markdown",
   "id": "6fce6b08",
   "metadata": {},
   "source": [
    "### Import Libraries"
   ]
  },
  {
   "cell_type": "code",
   "execution_count": 1,
   "id": "5858285b",
   "metadata": {},
   "outputs": [],
   "source": [
    "import pandas as pd\n",
    "import time\n",
    "import numpy as np\n",
    "import pickle\n",
    "import matplotlib.pyplot as plt\n",
    "from sklearn.model_selection import train_test_split\n",
    "from sklearn.preprocessing import StandardScaler\n",
    "from sklearn.feature_selection import RFE\n",
    "from sklearn.linear_model import LogisticRegression\n",
    "from sklearn.neighbors import KNeighborsClassifier\n",
    "from sklearn.svm import SVC\n",
    "from sklearn.ensemble import RandomForestClassifier\n",
    "from sklearn.naive_bayes import GaussianNB\n",
    "from sklearn.tree import DecisionTreeClassifier\n",
    "#!pip install mlxtend\n",
    "from mlxtend.feature_selection import SequentialFeatureSelector as sfs\n",
    "#!pip install sklearn.feature_selection import SequentialFeatureSelector as sfs"
   ]
  },
  {
   "cell_type": "markdown",
   "id": "fed218a7",
   "metadata": {},
   "source": [
    "### Function to Implement Forward Selection for Tree Based Algorithms"
   ]
  },
  {
   "cell_type": "code",
   "execution_count": 2,
   "id": "7208ed64",
   "metadata": {},
   "outputs": [],
   "source": [
    "def forward(indep_X,dep_Y,n):\n",
    "    forward_list=[]\n",
    "    RF=RandomForestClassifier(n_estimators=10,criterion='entropy',random_state=0)\n",
    "    DT=DecisionTreeClassifier(criterion='gini',max_features='sqrt',splitter='best',random_state=0)\n",
    "    forwardModelList=[RF,DT]\n",
    "    for i in forwardModelList:\n",
    "        print(i)\n",
    "        log_forward=sfs(i, k_features=n, forward=True, floating=False,  scoring='accuracy', cv=5, n_jobs=1)\n",
    "        #log_forward=sfs(i,max_features=n)\n",
    "        log_fit=log_forward.fit(indep_X,dep_Y)\n",
    "        log_forward_feature=log_fit.transform(indep_X)\n",
    "        forward_list.append(log_forward_feature)\n",
    "    return forward_list"
   ]
  },
  {
   "cell_type": "markdown",
   "id": "7d7df459",
   "metadata": {},
   "source": [
    "### Function to Split Train - Test Set and Standard Scaling the input"
   ]
  },
  {
   "cell_type": "code",
   "execution_count": 3,
   "id": "b0b79b3b",
   "metadata": {},
   "outputs": [],
   "source": [
    "def split_scale(indep_X,dep_Y):\n",
    "    X_train,X_test,Y_train,Y_test=train_test_split(indep_X,dep_Y,test_size=0.25,random_state=0)\n",
    "    sc=StandardScaler()\n",
    "    X_train=sc.fit_transform(X_train)\n",
    "    X_test=sc.transform(X_test)\n",
    "    return X_train,X_test,Y_train,Y_test"
   ]
  },
  {
   "cell_type": "markdown",
   "id": "18df9a4f",
   "metadata": {},
   "source": [
    "### Function to Generate Metric Reports: Confusion Matrix, Classification Report & Accuracy Score"
   ]
  },
  {
   "cell_type": "code",
   "execution_count": 4,
   "id": "3ff71be9",
   "metadata": {},
   "outputs": [],
   "source": [
    "def cm_predict(classifier,X_test):\n",
    "    y_pred=classifier.predict(X_test)\n",
    "    from sklearn.metrics import confusion_matrix\n",
    "    cm=confusion_matrix(Y_test,y_pred)\n",
    "    from sklearn.metrics import accuracy_score\n",
    "    from sklearn.metrics import classification_report\n",
    "    Accuracy=accuracy_score(Y_test,y_pred)\n",
    "    report=classification_report(Y_test,y_pred)\n",
    "    return classifier,Accuracy,report,X_test,Y_test,cm"
   ]
  },
  {
   "cell_type": "markdown",
   "id": "ab90dd22",
   "metadata": {},
   "source": [
    "### Logistic Regression Function"
   ]
  },
  {
   "cell_type": "code",
   "execution_count": 5,
   "id": "13e6980a",
   "metadata": {},
   "outputs": [],
   "source": [
    "def logistic(X_train,Y_train,X_test):\n",
    "    from sklearn.linear_model import LogisticRegression\n",
    "    classifier=LogisticRegression(random_state=0)\n",
    "    classifier.fit(X_train,Y_train)\n",
    "    classifier,Accuracy,report,X_test,Y_test,cm=cm_predict(classifier,X_test)\n",
    "    return classifier,Accuracy,report,X_test,Y_test,cm"
   ]
  },
  {
   "cell_type": "markdown",
   "id": "4689bf63",
   "metadata": {},
   "source": [
    "### SVM Linear Function"
   ]
  },
  {
   "cell_type": "code",
   "execution_count": 6,
   "id": "b5277946",
   "metadata": {},
   "outputs": [],
   "source": [
    "def svm_linear(X_train,Y_train,X_test):\n",
    "    from sklearn.svm import SVC\n",
    "    classifier=SVC(kernel='rbf',random_state=0)\n",
    "    classifier.fit(X_train,Y_train)\n",
    "    classifier,Accuracy,report,X_test,Y_test,cm=cm_predict(classifier,X_test)\n",
    "    return classifier,Accuracy,report,X_test,Y_test,cm"
   ]
  },
  {
   "cell_type": "markdown",
   "id": "0013e92e",
   "metadata": {},
   "source": [
    "### SVM Non-Linear Function"
   ]
  },
  {
   "cell_type": "code",
   "execution_count": 7,
   "id": "9a491dce",
   "metadata": {},
   "outputs": [],
   "source": [
    "def svm_NL(X_train,Y_train,X_test):\n",
    "    from sklearn.svm import SVC\n",
    "    classifier=SVC(kernel='rbf',random_state=0)\n",
    "    classifier.fit(X_train,Y_train)\n",
    "    classifier,Accuracy,report,X_test,Y_test,cm=cm_predict(classifier,X_test)\n",
    "    return classifier,Accuracy,report,X_test,Y_test,cm"
   ]
  },
  {
   "cell_type": "markdown",
   "id": "0a760a6a",
   "metadata": {},
   "source": [
    "### Naive Bayes Function"
   ]
  },
  {
   "cell_type": "code",
   "execution_count": 8,
   "id": "ac499094",
   "metadata": {},
   "outputs": [],
   "source": [
    "def Naive(X_train,Y_train,X_test):\n",
    "    from sklearn.naive_bayes import GaussianNB\n",
    "    classifier=GaussianNB()\n",
    "    classifier.fit(X_train,Y_train)\n",
    "    classifier,Accuracy,report,X_test,Y_test,cm=cm_predict(classifier,X_test)\n",
    "    return classifier,Accuracy,report,X_test,Y_test,cm"
   ]
  },
  {
   "cell_type": "markdown",
   "id": "3f528e88",
   "metadata": {},
   "source": [
    "### KNN Function"
   ]
  },
  {
   "cell_type": "code",
   "execution_count": 9,
   "id": "76fd7dea",
   "metadata": {},
   "outputs": [],
   "source": [
    "def knn(X_train,Y_train,X_test):\n",
    "    from sklearn.neighbors import KNeighborsClassifier\n",
    "    classifier=KNeighborsClassifier(n_neighbors=5,metric='minkowski',p=2)\n",
    "    classifier.fit(X_train,Y_train)\n",
    "    classifier,Accuracy,report,X_test,Y_test,cm=cm_predict(classifier,X_test)\n",
    "    return classifier,Accuracy,report,X_test,Y_test,cm"
   ]
  },
  {
   "cell_type": "markdown",
   "id": "df51ae0c",
   "metadata": {},
   "source": [
    "### Decision Tree Function"
   ]
  },
  {
   "cell_type": "code",
   "execution_count": 10,
   "id": "55b00c8f",
   "metadata": {},
   "outputs": [],
   "source": [
    "def Decision(X_train,Y_train,X_test):\n",
    "    from sklearn.tree import DecisionTreeClassifier\n",
    "    classifier=DecisionTreeClassifier(criterion='entropy',random_state=0)\n",
    "    classifier.fit(X_train,Y_train)\n",
    "    classifier,Accuracy,report,X_test,Y_test,cm=cm_predict(classifier,X_test)\n",
    "    return classifier,Accuracy,report,X_test,Y_test,cm"
   ]
  },
  {
   "cell_type": "markdown",
   "id": "51613058",
   "metadata": {},
   "source": [
    "### Random Forest Function"
   ]
  },
  {
   "cell_type": "code",
   "execution_count": 11,
   "id": "b76f07a3",
   "metadata": {},
   "outputs": [],
   "source": [
    "def random(X_train,Y_train,X_test):\n",
    "    from sklearn.ensemble import RandomForestClassifier\n",
    "    classifier=RandomForestClassifier(n_estimators=10,criterion='entropy',random_state=0)\n",
    "    classifier.fit(X_train,Y_train)\n",
    "    classifier,Accuracy,report,X_test,Y_test,cm=cm_predict(classifier,X_test)\n",
    "    return classifier,Accuracy,report,X_test,Y_test,cm"
   ]
  },
  {
   "cell_type": "markdown",
   "id": "739daa9b",
   "metadata": {},
   "source": [
    "### Function to create Data Frame"
   ]
  },
  {
   "cell_type": "code",
   "execution_count": 12,
   "id": "a0fbe309",
   "metadata": {},
   "outputs": [],
   "source": [
    "def forward_classification(alog,asvml,asvmnl,aknn,anav,adt,arf):\n",
    "    forwarddataframe=pd.DataFrame(index=['RandomForest','DecisionTree'],columns=['Logistic','SVML','SVMNL','KNN','NB','DecisionTree','RandomForest'])\n",
    "    for number,idex in enumerate(forwarddataframe.index):\n",
    "        forwarddataframe['Logistic'][idex]=alog[number]\n",
    "        forwarddataframe['SVML'][idex]=asvml[number]\n",
    "        forwarddataframe['SVMNL'][idex]=asvmnl[number]\n",
    "        forwarddataframe['KNN'][idex]=aknn[number]\n",
    "        forwarddataframe['NB'][idex]=anav[number]\n",
    "        forwarddataframe['DecisionTree'][idex]=adt[number]\n",
    "        forwarddataframe['RandomForest'][idex]=arf[number]\n",
    "    return forwarddataframe"
   ]
  },
  {
   "cell_type": "markdown",
   "id": "1de9a405",
   "metadata": {},
   "source": [
    "### Dataset Execution"
   ]
  },
  {
   "cell_type": "code",
   "execution_count": 28,
   "id": "4b56b13f",
   "metadata": {
    "scrolled": true
   },
   "outputs": [
    {
     "name": "stdout",
     "output_type": "stream",
     "text": [
      "RandomForestClassifier(criterion='entropy', n_estimators=10, random_state=0)\n",
      "DecisionTreeClassifier(max_features='sqrt', random_state=0)\n"
     ]
    },
    {
     "data": {
      "text/html": [
       "<div>\n",
       "<style scoped>\n",
       "    .dataframe tbody tr th:only-of-type {\n",
       "        vertical-align: middle;\n",
       "    }\n",
       "\n",
       "    .dataframe tbody tr th {\n",
       "        vertical-align: top;\n",
       "    }\n",
       "\n",
       "    .dataframe thead th {\n",
       "        text-align: right;\n",
       "    }\n",
       "</style>\n",
       "<table border=\"1\" class=\"dataframe\">\n",
       "  <thead>\n",
       "    <tr style=\"text-align: right;\">\n",
       "      <th></th>\n",
       "      <th>Logistic</th>\n",
       "      <th>SVML</th>\n",
       "      <th>SVMNL</th>\n",
       "      <th>KNN</th>\n",
       "      <th>NB</th>\n",
       "      <th>DecisionTree</th>\n",
       "      <th>RandomForest</th>\n",
       "    </tr>\n",
       "  </thead>\n",
       "  <tbody>\n",
       "    <tr>\n",
       "      <th>RandomForest</th>\n",
       "      <td>0.97</td>\n",
       "      <td>0.96</td>\n",
       "      <td>0.96</td>\n",
       "      <td>0.97</td>\n",
       "      <td>0.96</td>\n",
       "      <td>0.99</td>\n",
       "      <td>0.99</td>\n",
       "    </tr>\n",
       "    <tr>\n",
       "      <th>DecisionTree</th>\n",
       "      <td>0.98</td>\n",
       "      <td>0.96</td>\n",
       "      <td>0.96</td>\n",
       "      <td>0.99</td>\n",
       "      <td>0.91</td>\n",
       "      <td>0.99</td>\n",
       "      <td>0.99</td>\n",
       "    </tr>\n",
       "  </tbody>\n",
       "</table>\n",
       "</div>"
      ],
      "text/plain": [
       "             Logistic  SVML SVMNL   KNN    NB DecisionTree RandomForest\n",
       "RandomForest     0.97  0.96  0.96  0.97  0.96         0.99         0.99\n",
       "DecisionTree     0.98  0.96  0.96  0.99  0.91         0.99         0.99"
      ]
     },
     "execution_count": 28,
     "metadata": {},
     "output_type": "execute_result"
    }
   ],
   "source": [
    "dataset=pd.read_csv('prep.csv',index_col=None)\n",
    "df=dataset\n",
    "df=pd.get_dummies(df,drop_first=True)\n",
    "indep_X=df.drop('classification_yes',1)\n",
    "dep_Y=df['classification_yes']\n",
    "forward_list=forward(indep_X,dep_Y,7)\n",
    "alog=[]\n",
    "asvml=[]\n",
    "asvmnl=[]\n",
    "aknn=[]\n",
    "anav=[]\n",
    "adt=[]\n",
    "arf=[]\n",
    "for i in forward_list:\n",
    "    X_train,X_test,Y_train,Y_test=split_scale(i,dep_Y)\n",
    "    \n",
    "    classifier,Accuracy,report,X_test,Y_test,cm=logistic(X_train,Y_train,X_test)\n",
    "    alog.append(Accuracy)\n",
    "    \n",
    "    classifier,Accuracy,report,X_test,Y_test,cm=svm_linear(X_train,Y_train,X_test)\n",
    "    asvml.append(Accuracy)\n",
    "    \n",
    "    classifier,Accuracy,report,X_test,Y_test,cm=svm_NL(X_train,Y_train,X_test)\n",
    "    asvmnl.append(Accuracy)\n",
    "    \n",
    "    classifier,Accuracy,report,X_test,Y_test,cm=knn(X_train,Y_train,X_test)\n",
    "    aknn.append(Accuracy)\n",
    "    \n",
    "    classifier,Accuracy,report,X_test,Y_test,cm=Naive(X_train,Y_train,X_test)\n",
    "    anav.append(Accuracy)\n",
    "    \n",
    "    classifier,Accuracy,report,X_test,Y_test,cm=Decision(X_train,Y_train,X_test)\n",
    "    adt.append(Accuracy)\n",
    "    \n",
    "    classifier,Accuracy,report,X_test,Y_test,cm=random(X_train,Y_train,X_test)\n",
    "    arf.append(Accuracy)\n",
    "\n",
    "result=forward_classification(alog,asvml,asvmnl,aknn,anav,adt,arf)\n",
    "result"
   ]
  },
  {
   "cell_type": "code",
   "execution_count": 21,
   "id": "1686f169",
   "metadata": {},
   "outputs": [
    {
     "data": {
      "text/html": [
       "<div>\n",
       "<style scoped>\n",
       "    .dataframe tbody tr th:only-of-type {\n",
       "        vertical-align: middle;\n",
       "    }\n",
       "\n",
       "    .dataframe tbody tr th {\n",
       "        vertical-align: top;\n",
       "    }\n",
       "\n",
       "    .dataframe thead th {\n",
       "        text-align: right;\n",
       "    }\n",
       "</style>\n",
       "<table border=\"1\" class=\"dataframe\">\n",
       "  <thead>\n",
       "    <tr style=\"text-align: right;\">\n",
       "      <th></th>\n",
       "      <th>Logistic</th>\n",
       "      <th>SVML</th>\n",
       "      <th>SVMNL</th>\n",
       "      <th>KNN</th>\n",
       "      <th>NB</th>\n",
       "      <th>DecisionTree</th>\n",
       "      <th>RandomForest</th>\n",
       "    </tr>\n",
       "  </thead>\n",
       "  <tbody>\n",
       "    <tr>\n",
       "      <th>RandomForest</th>\n",
       "      <td>0.98</td>\n",
       "      <td>0.96</td>\n",
       "      <td>0.96</td>\n",
       "      <td>0.99</td>\n",
       "      <td>0.91</td>\n",
       "      <td>0.99</td>\n",
       "      <td>0.99</td>\n",
       "    </tr>\n",
       "    <tr>\n",
       "      <th>DecisionTree</th>\n",
       "      <td>0.97</td>\n",
       "      <td>0.97</td>\n",
       "      <td>0.97</td>\n",
       "      <td>0.99</td>\n",
       "      <td>0.82</td>\n",
       "      <td>0.99</td>\n",
       "      <td>0.99</td>\n",
       "    </tr>\n",
       "  </tbody>\n",
       "</table>\n",
       "</div>"
      ],
      "text/plain": [
       "             Logistic  SVML SVMNL   KNN    NB DecisionTree RandomForest\n",
       "RandomForest     0.98  0.96  0.96  0.99  0.91         0.99         0.99\n",
       "DecisionTree     0.97  0.97  0.97  0.99  0.82         0.99         0.99"
      ]
     },
     "execution_count": 21,
     "metadata": {},
     "output_type": "execute_result"
    }
   ],
   "source": [
    "result\n",
    "# for n=3"
   ]
  },
  {
   "cell_type": "code",
   "execution_count": 23,
   "id": "2508c2aa",
   "metadata": {},
   "outputs": [
    {
     "data": {
      "text/html": [
       "<div>\n",
       "<style scoped>\n",
       "    .dataframe tbody tr th:only-of-type {\n",
       "        vertical-align: middle;\n",
       "    }\n",
       "\n",
       "    .dataframe tbody tr th {\n",
       "        vertical-align: top;\n",
       "    }\n",
       "\n",
       "    .dataframe thead th {\n",
       "        text-align: right;\n",
       "    }\n",
       "</style>\n",
       "<table border=\"1\" class=\"dataframe\">\n",
       "  <thead>\n",
       "    <tr style=\"text-align: right;\">\n",
       "      <th></th>\n",
       "      <th>Logistic</th>\n",
       "      <th>SVML</th>\n",
       "      <th>SVMNL</th>\n",
       "      <th>KNN</th>\n",
       "      <th>NB</th>\n",
       "      <th>DecisionTree</th>\n",
       "      <th>RandomForest</th>\n",
       "    </tr>\n",
       "  </thead>\n",
       "  <tbody>\n",
       "    <tr>\n",
       "      <th>RandomForest</th>\n",
       "      <td>0.95</td>\n",
       "      <td>0.96</td>\n",
       "      <td>0.96</td>\n",
       "      <td>0.99</td>\n",
       "      <td>0.93</td>\n",
       "      <td>0.99</td>\n",
       "      <td>0.99</td>\n",
       "    </tr>\n",
       "    <tr>\n",
       "      <th>DecisionTree</th>\n",
       "      <td>0.97</td>\n",
       "      <td>0.97</td>\n",
       "      <td>0.97</td>\n",
       "      <td>0.99</td>\n",
       "      <td>0.83</td>\n",
       "      <td>0.99</td>\n",
       "      <td>0.99</td>\n",
       "    </tr>\n",
       "  </tbody>\n",
       "</table>\n",
       "</div>"
      ],
      "text/plain": [
       "             Logistic  SVML SVMNL   KNN    NB DecisionTree RandomForest\n",
       "RandomForest     0.95  0.96  0.96  0.99  0.93         0.99         0.99\n",
       "DecisionTree     0.97  0.97  0.97  0.99  0.83         0.99         0.99"
      ]
     },
     "execution_count": 23,
     "metadata": {},
     "output_type": "execute_result"
    }
   ],
   "source": [
    "result\n",
    "# for n=4"
   ]
  },
  {
   "cell_type": "code",
   "execution_count": 25,
   "id": "bc1fb84c",
   "metadata": {},
   "outputs": [
    {
     "data": {
      "text/html": [
       "<div>\n",
       "<style scoped>\n",
       "    .dataframe tbody tr th:only-of-type {\n",
       "        vertical-align: middle;\n",
       "    }\n",
       "\n",
       "    .dataframe tbody tr th {\n",
       "        vertical-align: top;\n",
       "    }\n",
       "\n",
       "    .dataframe thead th {\n",
       "        text-align: right;\n",
       "    }\n",
       "</style>\n",
       "<table border=\"1\" class=\"dataframe\">\n",
       "  <thead>\n",
       "    <tr style=\"text-align: right;\">\n",
       "      <th></th>\n",
       "      <th>Logistic</th>\n",
       "      <th>SVML</th>\n",
       "      <th>SVMNL</th>\n",
       "      <th>KNN</th>\n",
       "      <th>NB</th>\n",
       "      <th>DecisionTree</th>\n",
       "      <th>RandomForest</th>\n",
       "    </tr>\n",
       "  </thead>\n",
       "  <tbody>\n",
       "    <tr>\n",
       "      <th>RandomForest</th>\n",
       "      <td>0.96</td>\n",
       "      <td>0.96</td>\n",
       "      <td>0.96</td>\n",
       "      <td>0.99</td>\n",
       "      <td>0.96</td>\n",
       "      <td>0.99</td>\n",
       "      <td>0.99</td>\n",
       "    </tr>\n",
       "    <tr>\n",
       "      <th>DecisionTree</th>\n",
       "      <td>0.99</td>\n",
       "      <td>0.99</td>\n",
       "      <td>0.99</td>\n",
       "      <td>0.99</td>\n",
       "      <td>0.88</td>\n",
       "      <td>0.99</td>\n",
       "      <td>0.99</td>\n",
       "    </tr>\n",
       "  </tbody>\n",
       "</table>\n",
       "</div>"
      ],
      "text/plain": [
       "             Logistic  SVML SVMNL   KNN    NB DecisionTree RandomForest\n",
       "RandomForest     0.96  0.96  0.96  0.99  0.96         0.99         0.99\n",
       "DecisionTree     0.99  0.99  0.99  0.99  0.88         0.99         0.99"
      ]
     },
     "execution_count": 25,
     "metadata": {},
     "output_type": "execute_result"
    }
   ],
   "source": [
    "result\n",
    "# for n=5"
   ]
  },
  {
   "cell_type": "code",
   "execution_count": 27,
   "id": "3266177f",
   "metadata": {},
   "outputs": [
    {
     "data": {
      "text/html": [
       "<div>\n",
       "<style scoped>\n",
       "    .dataframe tbody tr th:only-of-type {\n",
       "        vertical-align: middle;\n",
       "    }\n",
       "\n",
       "    .dataframe tbody tr th {\n",
       "        vertical-align: top;\n",
       "    }\n",
       "\n",
       "    .dataframe thead th {\n",
       "        text-align: right;\n",
       "    }\n",
       "</style>\n",
       "<table border=\"1\" class=\"dataframe\">\n",
       "  <thead>\n",
       "    <tr style=\"text-align: right;\">\n",
       "      <th></th>\n",
       "      <th>Logistic</th>\n",
       "      <th>SVML</th>\n",
       "      <th>SVMNL</th>\n",
       "      <th>KNN</th>\n",
       "      <th>NB</th>\n",
       "      <th>DecisionTree</th>\n",
       "      <th>RandomForest</th>\n",
       "    </tr>\n",
       "  </thead>\n",
       "  <tbody>\n",
       "    <tr>\n",
       "      <th>RandomForest</th>\n",
       "      <td>0.97</td>\n",
       "      <td>0.96</td>\n",
       "      <td>0.96</td>\n",
       "      <td>0.98</td>\n",
       "      <td>0.96</td>\n",
       "      <td>0.99</td>\n",
       "      <td>0.99</td>\n",
       "    </tr>\n",
       "    <tr>\n",
       "      <th>DecisionTree</th>\n",
       "      <td>0.98</td>\n",
       "      <td>0.96</td>\n",
       "      <td>0.96</td>\n",
       "      <td>0.99</td>\n",
       "      <td>0.91</td>\n",
       "      <td>0.99</td>\n",
       "      <td>0.97</td>\n",
       "    </tr>\n",
       "  </tbody>\n",
       "</table>\n",
       "</div>"
      ],
      "text/plain": [
       "             Logistic  SVML SVMNL   KNN    NB DecisionTree RandomForest\n",
       "RandomForest     0.97  0.96  0.96  0.98  0.96         0.99         0.99\n",
       "DecisionTree     0.98  0.96  0.96  0.99  0.91         0.99         0.97"
      ]
     },
     "execution_count": 27,
     "metadata": {},
     "output_type": "execute_result"
    }
   ],
   "source": [
    "result\n",
    "# for n=6"
   ]
  },
  {
   "cell_type": "code",
   "execution_count": 29,
   "id": "5a406004",
   "metadata": {},
   "outputs": [
    {
     "data": {
      "text/html": [
       "<div>\n",
       "<style scoped>\n",
       "    .dataframe tbody tr th:only-of-type {\n",
       "        vertical-align: middle;\n",
       "    }\n",
       "\n",
       "    .dataframe tbody tr th {\n",
       "        vertical-align: top;\n",
       "    }\n",
       "\n",
       "    .dataframe thead th {\n",
       "        text-align: right;\n",
       "    }\n",
       "</style>\n",
       "<table border=\"1\" class=\"dataframe\">\n",
       "  <thead>\n",
       "    <tr style=\"text-align: right;\">\n",
       "      <th></th>\n",
       "      <th>Logistic</th>\n",
       "      <th>SVML</th>\n",
       "      <th>SVMNL</th>\n",
       "      <th>KNN</th>\n",
       "      <th>NB</th>\n",
       "      <th>DecisionTree</th>\n",
       "      <th>RandomForest</th>\n",
       "    </tr>\n",
       "  </thead>\n",
       "  <tbody>\n",
       "    <tr>\n",
       "      <th>RandomForest</th>\n",
       "      <td>0.97</td>\n",
       "      <td>0.96</td>\n",
       "      <td>0.96</td>\n",
       "      <td>0.97</td>\n",
       "      <td>0.96</td>\n",
       "      <td>0.99</td>\n",
       "      <td>0.99</td>\n",
       "    </tr>\n",
       "    <tr>\n",
       "      <th>DecisionTree</th>\n",
       "      <td>0.98</td>\n",
       "      <td>0.96</td>\n",
       "      <td>0.96</td>\n",
       "      <td>0.99</td>\n",
       "      <td>0.91</td>\n",
       "      <td>0.99</td>\n",
       "      <td>0.99</td>\n",
       "    </tr>\n",
       "  </tbody>\n",
       "</table>\n",
       "</div>"
      ],
      "text/plain": [
       "             Logistic  SVML SVMNL   KNN    NB DecisionTree RandomForest\n",
       "RandomForest     0.97  0.96  0.96  0.97  0.96         0.99         0.99\n",
       "DecisionTree     0.98  0.96  0.96  0.99  0.91         0.99         0.99"
      ]
     },
     "execution_count": 29,
     "metadata": {},
     "output_type": "execute_result"
    }
   ],
   "source": [
    "result\n",
    "# for n=7"
   ]
  },
  {
   "cell_type": "code",
   "execution_count": null,
   "id": "c1a0c2a8",
   "metadata": {},
   "outputs": [],
   "source": []
  },
  {
   "cell_type": "code",
   "execution_count": null,
   "id": "ac24d06d",
   "metadata": {},
   "outputs": [],
   "source": []
  }
 ],
 "metadata": {
  "kernelspec": {
   "display_name": "Python 3 (ipykernel)",
   "language": "python",
   "name": "python3"
  },
  "language_info": {
   "codemirror_mode": {
    "name": "ipython",
    "version": 3
   },
   "file_extension": ".py",
   "mimetype": "text/x-python",
   "name": "python",
   "nbconvert_exporter": "python",
   "pygments_lexer": "ipython3",
   "version": "3.7.1"
  }
 },
 "nbformat": 4,
 "nbformat_minor": 5
}
