{
 "cells": [
  {
   "cell_type": "markdown",
   "id": "ecdf7fcd",
   "metadata": {},
   "source": [
    "### Importing Libraries"
   ]
  },
  {
   "cell_type": "code",
   "execution_count": 1,
   "id": "f03341f9",
   "metadata": {},
   "outputs": [],
   "source": [
    "import pandas as pd\n",
    "from sklearn.model_selection import train_test_split\n",
    "import time\n",
    "from sklearn.preprocessing import StandardScaler\n",
    "from sklearn.feature_selection import SelectKBest\n",
    "from sklearn.feature_selection import chi2\n",
    "from sklearn.feature_selection import RFE\n",
    "from sklearn.linear_model import LogisticRegression\n",
    "import pickle\n",
    "import matplotlib.pyplot as plt"
   ]
  },
  {
   "cell_type": "markdown",
   "id": "546f4568",
   "metadata": {},
   "source": [
    "### Select K Best Algorithm Function"
   ]
  },
  {
   "cell_type": "code",
   "execution_count": 2,
   "id": "7eeb6358",
   "metadata": {},
   "outputs": [],
   "source": [
    "def selectkbest(indep_X,dep_Y,n):\n",
    "    test=SelectKBest(score_func=chi2 , k=n)\n",
    "    fit1=test.fit(indep_X,dep_Y)\n",
    "    select_features=fit1.transform(indep_X)\n",
    "    return select_features"
   ]
  },
  {
   "cell_type": "markdown",
   "id": "1f4f65d4",
   "metadata": {},
   "source": [
    "### Train Test Split and Standard Scaler Function"
   ]
  },
  {
   "cell_type": "code",
   "execution_count": 3,
   "id": "5ae842e5",
   "metadata": {},
   "outputs": [],
   "source": [
    "def split_scale(indep_X,dep_Y):\n",
    "    X_train,X_test,Y_train,Y_test=train_test_split(indep_X,dep_Y,test_size=0.25,random_state=0)\n",
    "    sc=StandardScaler()\n",
    "    X_train=sc.fit_transform(X_train)\n",
    "    X_test=sc.transform(X_test)\n",
    "    return X_train,X_test,Y_train,Y_test"
   ]
  },
  {
   "cell_type": "markdown",
   "id": "1ab5bcb5",
   "metadata": {},
   "source": [
    "### Confusion Matrix for classification data Function"
   ]
  },
  {
   "cell_type": "code",
   "execution_count": 4,
   "id": "60cf5284",
   "metadata": {},
   "outputs": [],
   "source": [
    "def cm_predict(classifier,X_test):\n",
    "    y_pred=classifier.predict(X_test)\n",
    "    from sklearn.metrics import confusion_matrix\n",
    "    cm=confusion_matrix(Y_test,y_pred)\n",
    "    from sklearn.metrics import accuracy_score\n",
    "    from sklearn.metrics import classification_report\n",
    "    Accuracy=accuracy_score(Y_test,y_pred)\n",
    "    report=classification_report(Y_test,y_pred)\n",
    "    return classifier,Accuracy,report,X_test,Y_test,cm"
   ]
  },
  {
   "cell_type": "markdown",
   "id": "0a309012",
   "metadata": {},
   "source": [
    "### Logistic Regression Function"
   ]
  },
  {
   "cell_type": "code",
   "execution_count": 5,
   "id": "7b779c93",
   "metadata": {},
   "outputs": [],
   "source": [
    "def logistic(X_train,Y_train,X_test):\n",
    "    from sklearn.linear_model import LogisticRegression\n",
    "    classifier=LogisticRegression(random_state=0)\n",
    "    classifier.fit(X_train,Y_train)\n",
    "    classifier,Accuracy,report,X_test,Y_test,cm=cm_predict(classifier,X_test)\n",
    "    return classifier,Accuracy,report,X_test,Y_test,cm"
   ]
  },
  {
   "cell_type": "markdown",
   "id": "47aff97d",
   "metadata": {},
   "source": [
    "### SVM Linear Function"
   ]
  },
  {
   "cell_type": "code",
   "execution_count": 6,
   "id": "73066e2f",
   "metadata": {},
   "outputs": [],
   "source": [
    "def svm_linear(X_train,Y_train,X_test):\n",
    "    from sklearn.svm import SVC\n",
    "    classifier=SVC(kernel='rbf',random_state=0)\n",
    "    classifier.fit(X_train,Y_train)\n",
    "    classifier,Accuracy,report,X_test,Y_test,cm=cm_predict(classifier,X_test)\n",
    "    return classifier,Accuracy,report,X_test,Y_test,cm"
   ]
  },
  {
   "cell_type": "markdown",
   "id": "b2e915e6",
   "metadata": {},
   "source": [
    "### SVM Non-Linear Function"
   ]
  },
  {
   "cell_type": "code",
   "execution_count": 7,
   "id": "fa9398bf",
   "metadata": {},
   "outputs": [],
   "source": [
    "def svm_NL(X_train,Y_train,X_test):\n",
    "    from sklearn.svm import SVC\n",
    "    classifier=SVC(kernel='rbf',random_state=0)\n",
    "    classifier.fit(X_train,Y_train)\n",
    "    classifier,Accuracy,report,X_test,Y_test,cm=cm_predict(classifier,X_test)\n",
    "    return classifier,Accuracy,report,X_test,Y_test,cm"
   ]
  },
  {
   "cell_type": "markdown",
   "id": "de723b6d",
   "metadata": {},
   "source": [
    "### Naive Bayes Function"
   ]
  },
  {
   "cell_type": "code",
   "execution_count": 8,
   "id": "15bc768a",
   "metadata": {},
   "outputs": [],
   "source": [
    "def Naive(X_train,Y_train,X_test):\n",
    "    from sklearn.naive_bayes import GaussianNB\n",
    "    classifier=GaussianNB()\n",
    "    classifier.fit(X_train,Y_train)\n",
    "    classifier,Accuracy,report,X_test,Y_test,cm=cm_predict(classifier,X_test)\n",
    "    return classifier,Accuracy,report,X_test,Y_test,cm"
   ]
  },
  {
   "cell_type": "markdown",
   "id": "355a5622",
   "metadata": {},
   "source": [
    "### KNN Function"
   ]
  },
  {
   "cell_type": "code",
   "execution_count": 9,
   "id": "b2105432",
   "metadata": {},
   "outputs": [],
   "source": [
    "def knn(X_train,Y_train,X_test):\n",
    "    from sklearn.neighbors import KNeighborsClassifier\n",
    "    classifier=KNeighborsClassifier(n_neighbors=5,metric='minkowski',p=2)\n",
    "    classifier.fit(X_train,Y_train)\n",
    "    classifier,Accuracy,report,X_test,Y_test,cm=cm_predict(classifier,X_test)\n",
    "    return classifier,Accuracy,report,X_test,Y_test,cm"
   ]
  },
  {
   "cell_type": "markdown",
   "id": "7e9b5607",
   "metadata": {},
   "source": [
    "### Decision Tree Function"
   ]
  },
  {
   "cell_type": "code",
   "execution_count": 10,
   "id": "f6249cb7",
   "metadata": {},
   "outputs": [],
   "source": [
    "def Decision(X_train,Y_train,X_test):\n",
    "    from sklearn.tree import DecisionTreeClassifier\n",
    "    classifier=DecisionTreeClassifier(criterion='entropy',random_state=0)\n",
    "    classifier.fit(X_train,Y_train)\n",
    "    classifier,Accuracy,report,X_test,Y_test,cm=cm_predict(classifier,X_test)\n",
    "    return classifier,Accuracy,report,X_test,Y_test,cm"
   ]
  },
  {
   "cell_type": "markdown",
   "id": "00a22363",
   "metadata": {},
   "source": [
    "### Random Forest Function"
   ]
  },
  {
   "cell_type": "code",
   "execution_count": 11,
   "id": "4b127277",
   "metadata": {},
   "outputs": [],
   "source": [
    "def random(X_train,Y_train,X_test):\n",
    "    from sklearn.ensemble import RandomForestClassifier\n",
    "    classifier=RandomForestClassifier(n_estimators=10,criterion='entropy',random_state=0)\n",
    "    classifier.fit(X_train,Y_train)\n",
    "    classifier,Accuracy,report,X_test,Y_test,cm=cm_predict(classifier,X_test)\n",
    "    return classifier,Accuracy,report,X_test,Y_test,cm"
   ]
  },
  {
   "cell_type": "markdown",
   "id": "7fa85cf9",
   "metadata": {},
   "source": [
    "### Create Dataframe"
   ]
  },
  {
   "cell_type": "code",
   "execution_count": 12,
   "id": "c53b2f50",
   "metadata": {},
   "outputs": [],
   "source": [
    "def selectk_classification(alogi,asvml,asvmnl,aknn,anb,adec,arf):\n",
    "    dataframe=pd.DataFrame(index=['ChiSquare'],columns=['Logistic','SVML','SVMNL','KNN','NaiveBayes','DecisionTree','RandomForest'])\n",
    "    for number,idex in enumerate(dataframe.index):\n",
    "        dataframe['Logistic'][idex]=alogi[number]\n",
    "        dataframe['SVML'][idex]=asvml[number]\n",
    "        dataframe['SVMNL'][idex]=asvmnl[number]\n",
    "        dataframe['KNN'][idex]=aknn[number]\n",
    "        dataframe['NaiveBayes'][idex]=anb[number]\n",
    "        dataframe['DecisionTree'][idex]=adec[number]\n",
    "        dataframe['RandomForest'][idex]=arf[number]\n",
    "    return dataframe"
   ]
  },
  {
   "cell_type": "markdown",
   "id": "385faa1b",
   "metadata": {},
   "source": [
    "### Dataset Execution"
   ]
  },
  {
   "cell_type": "code",
   "execution_count": 13,
   "id": "fc0cb890",
   "metadata": {},
   "outputs": [],
   "source": [
    "dataset=pd.read_csv('prep.csv',index_col=None)\n",
    "df=dataset\n",
    "df=pd.get_dummies(df,drop_first=True)\n",
    "indep_X=df.drop('classification_yes',1)\n",
    "dep_Y=df['classification_yes']"
   ]
  },
  {
   "cell_type": "code",
   "execution_count": 22,
   "id": "94b6f361",
   "metadata": {},
   "outputs": [],
   "source": [
    "kbest=selectkbest(indep_X,dep_Y,6)"
   ]
  },
  {
   "cell_type": "code",
   "execution_count": 23,
   "id": "c5410f19",
   "metadata": {},
   "outputs": [],
   "source": [
    "alogi=[]\n",
    "asvml=[]\n",
    "asvmnl=[]\n",
    "aknn=[]\n",
    "anb=[]\n",
    "adec=[]\n",
    "arf=[]"
   ]
  },
  {
   "cell_type": "code",
   "execution_count": 24,
   "id": "e2cf96f8",
   "metadata": {},
   "outputs": [],
   "source": [
    "X_train,X_test,Y_train,Y_test=split_scale(kbest,dep_Y)"
   ]
  },
  {
   "cell_type": "code",
   "execution_count": 25,
   "id": "baf6b9dd",
   "metadata": {},
   "outputs": [
    {
     "name": "stderr",
     "output_type": "stream",
     "text": [
      "C:\\Anaconda\\envs\\aiml\\lib\\site-packages\\sklearn\\linear_model\\logistic.py:432: FutureWarning: Default solver will be changed to 'lbfgs' in 0.22. Specify a solver to silence this warning.\n",
      "  FutureWarning)\n",
      "C:\\Anaconda\\envs\\aiml\\lib\\site-packages\\sklearn\\neighbors\\base.py:441: DeprecationWarning: distutils Version classes are deprecated. Use packaging.version instead.\n",
      "  old_joblib = LooseVersion(joblib_version) < LooseVersion('0.12')\n",
      "C:\\Anaconda\\envs\\aiml\\lib\\site-packages\\sklearn\\neighbors\\base.py:441: DeprecationWarning: distutils Version classes are deprecated. Use packaging.version instead.\n",
      "  old_joblib = LooseVersion(joblib_version) < LooseVersion('0.12')\n",
      "C:\\Anaconda\\envs\\aiml\\lib\\site-packages\\sklearn\\utils\\fixes.py:230: DeprecationWarning: distutils Version classes are deprecated. Use packaging.version instead.\n",
      "  if _joblib.__version__ >= LooseVersion('0.12'):\n",
      "C:\\Anaconda\\envs\\aiml\\lib\\site-packages\\sklearn\\utils\\fixes.py:230: DeprecationWarning: distutils Version classes are deprecated. Use packaging.version instead.\n",
      "  if _joblib.__version__ >= LooseVersion('0.12'):\n"
     ]
    },
    {
     "data": {
      "text/html": [
       "<div>\n",
       "<style scoped>\n",
       "    .dataframe tbody tr th:only-of-type {\n",
       "        vertical-align: middle;\n",
       "    }\n",
       "\n",
       "    .dataframe tbody tr th {\n",
       "        vertical-align: top;\n",
       "    }\n",
       "\n",
       "    .dataframe thead th {\n",
       "        text-align: right;\n",
       "    }\n",
       "</style>\n",
       "<table border=\"1\" class=\"dataframe\">\n",
       "  <thead>\n",
       "    <tr style=\"text-align: right;\">\n",
       "      <th></th>\n",
       "      <th>Logistic</th>\n",
       "      <th>SVML</th>\n",
       "      <th>SVMNL</th>\n",
       "      <th>KNN</th>\n",
       "      <th>NaiveBayes</th>\n",
       "      <th>DecisionTree</th>\n",
       "      <th>RandomForest</th>\n",
       "    </tr>\n",
       "  </thead>\n",
       "  <tbody>\n",
       "    <tr>\n",
       "      <th>ChiSquare</th>\n",
       "      <td>0.96</td>\n",
       "      <td>0.96</td>\n",
       "      <td>0.96</td>\n",
       "      <td>0.93</td>\n",
       "      <td>0.89</td>\n",
       "      <td>0.97</td>\n",
       "      <td>0.97</td>\n",
       "    </tr>\n",
       "  </tbody>\n",
       "</table>\n",
       "</div>"
      ],
      "text/plain": [
       "          Logistic  SVML SVMNL   KNN NaiveBayes DecisionTree RandomForest\n",
       "ChiSquare     0.96  0.96  0.96  0.93       0.89         0.97         0.97"
      ]
     },
     "execution_count": 25,
     "metadata": {},
     "output_type": "execute_result"
    }
   ],
   "source": [
    "classifier,Accuracy,report,X_test,Y_test,cm=logistic(X_train,Y_train,X_test)\n",
    "alogi.append(Accuracy)\n",
    "classifier,Accuracy,report,X_test,Y_test,cm=svm_linear(X_train,Y_train,X_test)\n",
    "asvml.append(Accuracy)\n",
    "classifier,Accuracy,report,X_test,Y_test,cm=svm_NL(X_train,Y_train,X_test)\n",
    "asvmnl.append(Accuracy)\n",
    "classifier,Accuracy,report,X_test,Y_test,cm=knn(X_train,Y_train,X_test)\n",
    "aknn.append(Accuracy)\n",
    "classifier,Accuracy,report,X_test,Y_test,cm=Naive(X_train,Y_train,X_test)\n",
    "anb.append(Accuracy)\n",
    "classifier,Accuracy,report,X_test,Y_test,cm=Decision(X_train,Y_train,X_test)\n",
    "adec.append(Accuracy)\n",
    "classifier,Accuracy,report,X_test,Y_test,cm=random(X_train,Y_train,X_test)\n",
    "arf.append(Accuracy)\n",
    "\n",
    "result=selectk_classification(alogi,asvml,asvmnl,aknn,anb,adec,arf)\n",
    "result"
   ]
  },
  {
   "cell_type": "code",
   "execution_count": null,
   "id": "45d15748",
   "metadata": {},
   "outputs": [],
   "source": []
  },
  {
   "cell_type": "code",
   "execution_count": null,
   "id": "e48a3abb",
   "metadata": {},
   "outputs": [],
   "source": []
  },
  {
   "cell_type": "code",
   "execution_count": null,
   "id": "0f3ab98a",
   "metadata": {},
   "outputs": [],
   "source": []
  }
 ],
 "metadata": {
  "kernelspec": {
   "display_name": "Python 3 (ipykernel)",
   "language": "python",
   "name": "python3"
  },
  "language_info": {
   "codemirror_mode": {
    "name": "ipython",
    "version": 3
   },
   "file_extension": ".py",
   "mimetype": "text/x-python",
   "name": "python",
   "nbconvert_exporter": "python",
   "pygments_lexer": "ipython3",
   "version": "3.7.1"
  }
 },
 "nbformat": 4,
 "nbformat_minor": 5
}
