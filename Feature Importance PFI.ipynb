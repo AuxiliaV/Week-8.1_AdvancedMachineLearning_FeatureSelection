{
 "cells": [
  {
   "cell_type": "markdown",
   "id": "caf2c2c8",
   "metadata": {},
   "source": [
    "### Import Libraries"
   ]
  },
  {
   "cell_type": "code",
   "execution_count": 1,
   "id": "4ac2f5d6",
   "metadata": {},
   "outputs": [],
   "source": [
    "import pandas as pd\n",
    "import time\n",
    "import numpy as np\n",
    "import pickle\n",
    "import matplotlib.pyplot as plt\n",
    "from sklearn.model_selection import train_test_split\n",
    "from sklearn.preprocessing import StandardScaler\n",
    "from sklearn.linear_model import LogisticRegression\n",
    "from sklearn.neighbors import KNeighborsClassifier\n",
    "from sklearn.svm import SVC\n",
    "from sklearn.ensemble import RandomForestClassifier\n",
    "from sklearn.naive_bayes import GaussianNB\n",
    "from sklearn.tree import DecisionTreeClassifier\n",
    "from sklearn.inspection import permutation_importance as pfi"
   ]
  },
  {
   "cell_type": "markdown",
   "id": "049d8e3a",
   "metadata": {},
   "source": [
    "### Function to Implement Permutation Feature Importance for Tree Based Algorithms"
   ]
  },
  {
   "cell_type": "code",
   "execution_count": 2,
   "id": "d1e5d1fd",
   "metadata": {},
   "outputs": [],
   "source": [
    "def PFI(indep_X,dep_Y,n):\n",
    "    PFI_List=[]\n",
    "    RF=RandomForestClassifier(n_estimators=10,criterion='entropy',random_state=0)\n",
    "    DT=DecisionTreeClassifier(criterion='gini',max_features='sqrt',splitter='best',random_state=0)\n",
    "    RFO=RF.fit(indep_X,dep_Y)\n",
    "    DTO=DT.fit(indep_X,dep_Y)\n",
    "    PFIModelList=[DTO,RFO]\n",
    "    for i in PFIModelList:\n",
    "        #feature_names = indep_X.columns\n",
    "        #importances = i.feature_importances_\n",
    "        #indices = np.argsort(importances)[::-1]\n",
    "        \n",
    "        #names = [feature_names[j] for j in indices]\n",
    "        #print(names)\n",
    "        #plt.figure(figsize=(10, 6))\n",
    "        #plt.title(\"Feature Importances\")\n",
    "        #plt.bar(range(indep_X.shape[1]), importances[indices])\n",
    "        #plt.xticks(range(indep_X.shape[1]), names, rotation=90)\n",
    "        #plt.xlabel(\"Features\")\n",
    "        #plt.ylabel(\"Importance\")\n",
    "        #plt.show()\n",
    "        \n",
    "        result = pfi(i, indep_X, dep_Y, n_repeats=30, scoring='accuracy', random_state=0, n_jobs=1)\n",
    "        feature_names = indep_X.columns\n",
    "        importances = result.importances\n",
    "        sorted_idx = result.importances_mean.argsort()[::-1]\n",
    "        names = [feature_names[j] for j in sorted_idx]\n",
    "        num_features_to_select = n\n",
    "        selected_feature_names = names[:num_features_to_select]\n",
    "        print(selected_feature_names)\n",
    "        PFI_List.append(selected_feature_names)\n",
    "        \n",
    "        #feature_importances = result.importances_mean[sorted_idx]\n",
    "        #feature_std = result.importances_std[sorted_idx]\n",
    "        #feature_names = [f\"feature_{i}\" for i in sorted_idx]\n",
    "        #num_features_to_select = n\n",
    "        #selected_feature_indices = sorted_idx[:num_features_to_select]\n",
    "        #selected_feature_names = feature_names[:num_features_to_select]\n",
    "        #print(f\"Top {num_features_to_select} features based on permutation importance:\")\n",
    "        #mean=result.importances_mean\n",
    "        #std=result.importances_std\n",
    "        #print(names)\n",
    "        #print(std)\n",
    "        #sorted_idx = np.argsort(result.importances_mean)[::-1]\n",
    "        #feature_importance_df_perm = pd.DataFrame({'feature': feature_names[sorted_idx],'importance_mean': result.importances_mean[sorted_idx],'importance_std': result.importances_std[sorted_idx]})\n",
    "        #print(feature_importance_df_perm)\n",
    "    return PFI_List"
   ]
  },
  {
   "cell_type": "markdown",
   "id": "25307c6e",
   "metadata": {},
   "source": [
    "### Function to Split Train - Test Set and Standard Scaling the input"
   ]
  },
  {
   "cell_type": "code",
   "execution_count": 3,
   "id": "0830448f",
   "metadata": {},
   "outputs": [],
   "source": [
    "def split_scale(indep_X,dep_Y):\n",
    "    X_train,X_test,Y_train,Y_test=train_test_split(indep_X,dep_Y,test_size=0.25,random_state=0)\n",
    "    sc=StandardScaler()\n",
    "    X_train=sc.fit_transform(X_train)\n",
    "    X_test=sc.transform(X_test)\n",
    "    return X_train,X_test,Y_train,Y_test"
   ]
  },
  {
   "cell_type": "markdown",
   "id": "ec351de4",
   "metadata": {},
   "source": [
    "### Function to Generate Metric Reports: Confusion Matrix, Classification Report & Accuracy Score"
   ]
  },
  {
   "cell_type": "code",
   "execution_count": 4,
   "id": "a8255efa",
   "metadata": {},
   "outputs": [],
   "source": [
    "def cm_predict(classifier,X_test):\n",
    "    y_pred=classifier.predict(X_test)\n",
    "    from sklearn.metrics import confusion_matrix\n",
    "    cm=confusion_matrix(Y_test,y_pred)\n",
    "    from sklearn.metrics import accuracy_score\n",
    "    from sklearn.metrics import classification_report\n",
    "    Accuracy=accuracy_score(Y_test,y_pred)\n",
    "    report=classification_report(Y_test,y_pred)\n",
    "    return classifier,Accuracy,report,X_test,Y_test,cm"
   ]
  },
  {
   "cell_type": "markdown",
   "id": "9205ceff",
   "metadata": {},
   "source": [
    "### Logistic Regression Function"
   ]
  },
  {
   "cell_type": "code",
   "execution_count": 5,
   "id": "4675511c",
   "metadata": {},
   "outputs": [],
   "source": [
    "def logistic(X_train,Y_train,X_test):\n",
    "    from sklearn.linear_model import LogisticRegression\n",
    "    classifier=LogisticRegression(random_state=0)\n",
    "    classifier.fit(X_train,Y_train)\n",
    "    classifier,Accuracy,report,X_test,Y_test,cm=cm_predict(classifier,X_test)\n",
    "    return classifier,Accuracy,report,X_test,Y_test,cm"
   ]
  },
  {
   "cell_type": "markdown",
   "id": "482e005b",
   "metadata": {},
   "source": [
    "### SVM Linear Function"
   ]
  },
  {
   "cell_type": "code",
   "execution_count": 6,
   "id": "3f5d310a",
   "metadata": {},
   "outputs": [],
   "source": [
    "def svm_linear(X_train,Y_train,X_test):\n",
    "    from sklearn.svm import SVC\n",
    "    classifier=SVC(kernel='rbf',random_state=0)\n",
    "    classifier.fit(X_train,Y_train)\n",
    "    classifier,Accuracy,report,X_test,Y_test,cm=cm_predict(classifier,X_test)\n",
    "    return classifier,Accuracy,report,X_test,Y_test,cm"
   ]
  },
  {
   "cell_type": "markdown",
   "id": "09035e13",
   "metadata": {},
   "source": [
    "### SVM Non-Linear Function"
   ]
  },
  {
   "cell_type": "code",
   "execution_count": 7,
   "id": "c2b70cea",
   "metadata": {},
   "outputs": [],
   "source": [
    "def svm_NL(X_train,Y_train,X_test):\n",
    "    from sklearn.svm import SVC\n",
    "    classifier=SVC(kernel='rbf',random_state=0)\n",
    "    classifier.fit(X_train,Y_train)\n",
    "    classifier,Accuracy,report,X_test,Y_test,cm=cm_predict(classifier,X_test)\n",
    "    return classifier,Accuracy,report,X_test,Y_test,cm"
   ]
  },
  {
   "cell_type": "markdown",
   "id": "1b1c31c1",
   "metadata": {},
   "source": [
    "### Naive Bayes Function"
   ]
  },
  {
   "cell_type": "code",
   "execution_count": 8,
   "id": "2e1ef57c",
   "metadata": {},
   "outputs": [],
   "source": [
    "def Naive(X_train,Y_train,X_test):\n",
    "    from sklearn.naive_bayes import GaussianNB\n",
    "    classifier=GaussianNB()\n",
    "    classifier.fit(X_train,Y_train)\n",
    "    classifier,Accuracy,report,X_test,Y_test,cm=cm_predict(classifier,X_test)\n",
    "    return classifier,Accuracy,report,X_test,Y_test,cm"
   ]
  },
  {
   "cell_type": "markdown",
   "id": "75fec495",
   "metadata": {},
   "source": [
    "### KNN Function"
   ]
  },
  {
   "cell_type": "code",
   "execution_count": 9,
   "id": "63d3bed3",
   "metadata": {},
   "outputs": [],
   "source": [
    "def knn(X_train,Y_train,X_test):\n",
    "    from sklearn.neighbors import KNeighborsClassifier\n",
    "    classifier=KNeighborsClassifier(n_neighbors=5,metric='minkowski',p=2)\n",
    "    classifier.fit(X_train,Y_train)\n",
    "    classifier,Accuracy,report,X_test,Y_test,cm=cm_predict(classifier,X_test)\n",
    "    return classifier,Accuracy,report,X_test,Y_test,cm"
   ]
  },
  {
   "cell_type": "markdown",
   "id": "c09a7e92",
   "metadata": {},
   "source": [
    "### Decision Tree Function"
   ]
  },
  {
   "cell_type": "code",
   "execution_count": 10,
   "id": "d54c3cb9",
   "metadata": {},
   "outputs": [],
   "source": [
    "def Decision(X_train,Y_train,X_test):\n",
    "    from sklearn.tree import DecisionTreeClassifier\n",
    "    classifier=DecisionTreeClassifier(criterion='entropy',random_state=0)\n",
    "    classifier.fit(X_train,Y_train)\n",
    "    classifier,Accuracy,report,X_test,Y_test,cm=cm_predict(classifier,X_test)\n",
    "    return classifier,Accuracy,report,X_test,Y_test,cm"
   ]
  },
  {
   "cell_type": "markdown",
   "id": "e5a73832",
   "metadata": {},
   "source": [
    "### Random Forest Function"
   ]
  },
  {
   "cell_type": "code",
   "execution_count": 11,
   "id": "30804fb1",
   "metadata": {},
   "outputs": [],
   "source": [
    "def random(X_train,Y_train,X_test):\n",
    "    from sklearn.ensemble import RandomForestClassifier\n",
    "    classifier=RandomForestClassifier(n_estimators=10,criterion='entropy',random_state=0)\n",
    "    classifier.fit(X_train,Y_train)\n",
    "    classifier,Accuracy,report,X_test,Y_test,cm=cm_predict(classifier,X_test)\n",
    "    return classifier,Accuracy,report,X_test,Y_test,cm"
   ]
  },
  {
   "cell_type": "markdown",
   "id": "3d0a38a6",
   "metadata": {},
   "source": [
    "### Function to create Data Frame"
   ]
  },
  {
   "cell_type": "code",
   "execution_count": 12,
   "id": "565b65d1",
   "metadata": {},
   "outputs": [],
   "source": [
    "def PFI_classification(alog,asvml,asvmnl,aknn,anav,adt,arf):\n",
    "    PFIdataframe=pd.DataFrame(index=['DecisionTree','RandomForest'],columns=['Logistic','SVML','SVMNL','KNN','NB','DecisionTree','RandomForest'])\n",
    "    for number,idex in enumerate(PFIdataframe.index):\n",
    "        PFIdataframe['Logistic'][idex]=alog[number]\n",
    "        PFIdataframe['SVML'][idex]=asvml[number]\n",
    "        PFIdataframe['SVMNL'][idex]=asvmnl[number]\n",
    "        PFIdataframe['KNN'][idex]=aknn[number]\n",
    "        PFIdataframe['NB'][idex]=anav[number]\n",
    "        PFIdataframe['DecisionTree'][idex]=adt[number]\n",
    "        PFIdataframe['RandomForest'][idex]=arf[number]\n",
    "    return PFIdataframe"
   ]
  },
  {
   "cell_type": "markdown",
   "id": "60e4716c",
   "metadata": {},
   "source": [
    "### Dataset Execution"
   ]
  },
  {
   "cell_type": "code",
   "execution_count": 24,
   "id": "2cc947ba",
   "metadata": {},
   "outputs": [
    {
     "name": "stdout",
     "output_type": "stream",
     "text": [
      "['sc', 'hrmo', 'bgr', 'pcv', 'bu', 'rc', 'htn_yes']\n",
      "['pcv', 'sc', 'bgr', 'hrmo', 'sod', 'age', 'bu']\n"
     ]
    },
    {
     "data": {
      "text/html": [
       "<div>\n",
       "<style scoped>\n",
       "    .dataframe tbody tr th:only-of-type {\n",
       "        vertical-align: middle;\n",
       "    }\n",
       "\n",
       "    .dataframe tbody tr th {\n",
       "        vertical-align: top;\n",
       "    }\n",
       "\n",
       "    .dataframe thead th {\n",
       "        text-align: right;\n",
       "    }\n",
       "</style>\n",
       "<table border=\"1\" class=\"dataframe\">\n",
       "  <thead>\n",
       "    <tr style=\"text-align: right;\">\n",
       "      <th></th>\n",
       "      <th>Logistic</th>\n",
       "      <th>SVML</th>\n",
       "      <th>SVMNL</th>\n",
       "      <th>KNN</th>\n",
       "      <th>NB</th>\n",
       "      <th>DecisionTree</th>\n",
       "      <th>RandomForest</th>\n",
       "    </tr>\n",
       "  </thead>\n",
       "  <tbody>\n",
       "    <tr>\n",
       "      <th>DecisionTree</th>\n",
       "      <td>0.95</td>\n",
       "      <td>0.97</td>\n",
       "      <td>0.97</td>\n",
       "      <td>0.95</td>\n",
       "      <td>0.81</td>\n",
       "      <td>0.95</td>\n",
       "      <td>0.96</td>\n",
       "    </tr>\n",
       "    <tr>\n",
       "      <th>RandomForest</th>\n",
       "      <td>0.95</td>\n",
       "      <td>0.97</td>\n",
       "      <td>0.97</td>\n",
       "      <td>0.96</td>\n",
       "      <td>0.84</td>\n",
       "      <td>0.94</td>\n",
       "      <td>0.97</td>\n",
       "    </tr>\n",
       "  </tbody>\n",
       "</table>\n",
       "</div>"
      ],
      "text/plain": [
       "             Logistic  SVML SVMNL   KNN    NB DecisionTree RandomForest\n",
       "DecisionTree     0.95  0.97  0.97  0.95  0.81         0.95         0.96\n",
       "RandomForest     0.95  0.97  0.97  0.96  0.84         0.94         0.97"
      ]
     },
     "execution_count": 24,
     "metadata": {},
     "output_type": "execute_result"
    }
   ],
   "source": [
    "dataset=pd.read_csv('prep.csv',index_col=None)\n",
    "df=dataset\n",
    "df=pd.get_dummies(df,drop_first=True)\n",
    "indep_X=df.drop('classification_yes',1)\n",
    "dep_Y=df['classification_yes']\n",
    "PFI_df=PFI(indep_X,dep_Y,7)\n",
    "alog=[]\n",
    "asvml=[]\n",
    "asvmnl=[]\n",
    "aknn=[]\n",
    "anav=[]\n",
    "adt=[]\n",
    "arf=[]\n",
    "PFI_0=PFI_df[0]\n",
    "PFI_1=PFI_df[1]\n",
    "Final=(PFI_0,PFI_1)\n",
    "for i in Final:\n",
    "    X=indep_X[i]\n",
    "    X_train,X_test,Y_train,Y_test=split_scale(X,dep_Y)\n",
    "\n",
    "    classifier,Accuracy,report,X_test,Y_test,cm=logistic(X_train,Y_train,X_test)\n",
    "    alog.append(Accuracy)\n",
    "\n",
    "    classifier,Accuracy,report,X_test,Y_test,cm=svm_linear(X_train,Y_train,X_test)\n",
    "    asvml.append(Accuracy)\n",
    "\n",
    "    classifier,Accuracy,report,X_test,Y_test,cm=svm_NL(X_train,Y_train,X_test)\n",
    "    asvmnl.append(Accuracy)\n",
    "\n",
    "    classifier,Accuracy,report,X_test,Y_test,cm=knn(X_train,Y_train,X_test)\n",
    "    aknn.append(Accuracy)\n",
    "\n",
    "    classifier,Accuracy,report,X_test,Y_test,cm=Naive(X_train,Y_train,X_test)\n",
    "    anav.append(Accuracy)\n",
    "\n",
    "    classifier,Accuracy,report,X_test,Y_test,cm=Decision(X_train,Y_train,X_test)\n",
    "    adt.append(Accuracy)\n",
    "\n",
    "    classifier,Accuracy,report,X_test,Y_test,cm=random(X_train,Y_train,X_test)\n",
    "    arf.append(Accuracy)\n",
    "\n",
    "result=PFI_classification(alog,asvml,asvmnl,aknn,anav,adt,arf) \n",
    "result\n"
   ]
  },
  {
   "cell_type": "code",
   "execution_count": 17,
   "id": "d023b30a",
   "metadata": {},
   "outputs": [
    {
     "data": {
      "text/html": [
       "<div>\n",
       "<style scoped>\n",
       "    .dataframe tbody tr th:only-of-type {\n",
       "        vertical-align: middle;\n",
       "    }\n",
       "\n",
       "    .dataframe tbody tr th {\n",
       "        vertical-align: top;\n",
       "    }\n",
       "\n",
       "    .dataframe thead th {\n",
       "        text-align: right;\n",
       "    }\n",
       "</style>\n",
       "<table border=\"1\" class=\"dataframe\">\n",
       "  <thead>\n",
       "    <tr style=\"text-align: right;\">\n",
       "      <th></th>\n",
       "      <th>Logistic</th>\n",
       "      <th>SVML</th>\n",
       "      <th>SVMNL</th>\n",
       "      <th>KNN</th>\n",
       "      <th>NB</th>\n",
       "      <th>DecisionTree</th>\n",
       "      <th>RandomForest</th>\n",
       "    </tr>\n",
       "  </thead>\n",
       "  <tbody>\n",
       "    <tr>\n",
       "      <th>DecisionTree</th>\n",
       "      <td>0.95</td>\n",
       "      <td>0.96</td>\n",
       "      <td>0.96</td>\n",
       "      <td>0.96</td>\n",
       "      <td>0.85</td>\n",
       "      <td>0.94</td>\n",
       "      <td>0.96</td>\n",
       "    </tr>\n",
       "    <tr>\n",
       "      <th>RandomForest</th>\n",
       "      <td>0.94</td>\n",
       "      <td>0.94</td>\n",
       "      <td>0.94</td>\n",
       "      <td>0.95</td>\n",
       "      <td>0.84</td>\n",
       "      <td>0.95</td>\n",
       "      <td>0.96</td>\n",
       "    </tr>\n",
       "  </tbody>\n",
       "</table>\n",
       "</div>"
      ],
      "text/plain": [
       "             Logistic  SVML SVMNL   KNN    NB DecisionTree RandomForest\n",
       "DecisionTree     0.95  0.96  0.96  0.96  0.85         0.94         0.96\n",
       "RandomForest     0.94  0.94  0.94  0.95  0.84         0.95         0.96"
      ]
     },
     "execution_count": 17,
     "metadata": {},
     "output_type": "execute_result"
    }
   ],
   "source": [
    "result\n",
    "# for n=3"
   ]
  },
  {
   "cell_type": "code",
   "execution_count": 19,
   "id": "157ea917",
   "metadata": {},
   "outputs": [
    {
     "data": {
      "text/html": [
       "<div>\n",
       "<style scoped>\n",
       "    .dataframe tbody tr th:only-of-type {\n",
       "        vertical-align: middle;\n",
       "    }\n",
       "\n",
       "    .dataframe tbody tr th {\n",
       "        vertical-align: top;\n",
       "    }\n",
       "\n",
       "    .dataframe thead th {\n",
       "        text-align: right;\n",
       "    }\n",
       "</style>\n",
       "<table border=\"1\" class=\"dataframe\">\n",
       "  <thead>\n",
       "    <tr style=\"text-align: right;\">\n",
       "      <th></th>\n",
       "      <th>Logistic</th>\n",
       "      <th>SVML</th>\n",
       "      <th>SVMNL</th>\n",
       "      <th>KNN</th>\n",
       "      <th>NB</th>\n",
       "      <th>DecisionTree</th>\n",
       "      <th>RandomForest</th>\n",
       "    </tr>\n",
       "  </thead>\n",
       "  <tbody>\n",
       "    <tr>\n",
       "      <th>DecisionTree</th>\n",
       "      <td>0.95</td>\n",
       "      <td>0.96</td>\n",
       "      <td>0.96</td>\n",
       "      <td>0.95</td>\n",
       "      <td>0.88</td>\n",
       "      <td>0.96</td>\n",
       "      <td>0.94</td>\n",
       "    </tr>\n",
       "    <tr>\n",
       "      <th>RandomForest</th>\n",
       "      <td>0.95</td>\n",
       "      <td>0.96</td>\n",
       "      <td>0.96</td>\n",
       "      <td>0.95</td>\n",
       "      <td>0.88</td>\n",
       "      <td>0.98</td>\n",
       "      <td>0.96</td>\n",
       "    </tr>\n",
       "  </tbody>\n",
       "</table>\n",
       "</div>"
      ],
      "text/plain": [
       "             Logistic  SVML SVMNL   KNN    NB DecisionTree RandomForest\n",
       "DecisionTree     0.95  0.96  0.96  0.95  0.88         0.96         0.94\n",
       "RandomForest     0.95  0.96  0.96  0.95  0.88         0.98         0.96"
      ]
     },
     "execution_count": 19,
     "metadata": {},
     "output_type": "execute_result"
    }
   ],
   "source": [
    "result\n",
    "# for n=4"
   ]
  },
  {
   "cell_type": "code",
   "execution_count": 21,
   "id": "654377c7",
   "metadata": {},
   "outputs": [
    {
     "data": {
      "text/html": [
       "<div>\n",
       "<style scoped>\n",
       "    .dataframe tbody tr th:only-of-type {\n",
       "        vertical-align: middle;\n",
       "    }\n",
       "\n",
       "    .dataframe tbody tr th {\n",
       "        vertical-align: top;\n",
       "    }\n",
       "\n",
       "    .dataframe thead th {\n",
       "        text-align: right;\n",
       "    }\n",
       "</style>\n",
       "<table border=\"1\" class=\"dataframe\">\n",
       "  <thead>\n",
       "    <tr style=\"text-align: right;\">\n",
       "      <th></th>\n",
       "      <th>Logistic</th>\n",
       "      <th>SVML</th>\n",
       "      <th>SVMNL</th>\n",
       "      <th>KNN</th>\n",
       "      <th>NB</th>\n",
       "      <th>DecisionTree</th>\n",
       "      <th>RandomForest</th>\n",
       "    </tr>\n",
       "  </thead>\n",
       "  <tbody>\n",
       "    <tr>\n",
       "      <th>DecisionTree</th>\n",
       "      <td>0.95</td>\n",
       "      <td>0.95</td>\n",
       "      <td>0.95</td>\n",
       "      <td>0.96</td>\n",
       "      <td>0.87</td>\n",
       "      <td>0.95</td>\n",
       "      <td>0.97</td>\n",
       "    </tr>\n",
       "    <tr>\n",
       "      <th>RandomForest</th>\n",
       "      <td>0.96</td>\n",
       "      <td>0.96</td>\n",
       "      <td>0.96</td>\n",
       "      <td>0.98</td>\n",
       "      <td>0.88</td>\n",
       "      <td>0.94</td>\n",
       "      <td>0.97</td>\n",
       "    </tr>\n",
       "  </tbody>\n",
       "</table>\n",
       "</div>"
      ],
      "text/plain": [
       "             Logistic  SVML SVMNL   KNN    NB DecisionTree RandomForest\n",
       "DecisionTree     0.95  0.95  0.95  0.96  0.87         0.95         0.97\n",
       "RandomForest     0.96  0.96  0.96  0.98  0.88         0.94         0.97"
      ]
     },
     "execution_count": 21,
     "metadata": {},
     "output_type": "execute_result"
    }
   ],
   "source": [
    "result\n",
    "# for n=5"
   ]
  },
  {
   "cell_type": "code",
   "execution_count": 23,
   "id": "6b883d81",
   "metadata": {},
   "outputs": [
    {
     "data": {
      "text/html": [
       "<div>\n",
       "<style scoped>\n",
       "    .dataframe tbody tr th:only-of-type {\n",
       "        vertical-align: middle;\n",
       "    }\n",
       "\n",
       "    .dataframe tbody tr th {\n",
       "        vertical-align: top;\n",
       "    }\n",
       "\n",
       "    .dataframe thead th {\n",
       "        text-align: right;\n",
       "    }\n",
       "</style>\n",
       "<table border=\"1\" class=\"dataframe\">\n",
       "  <thead>\n",
       "    <tr style=\"text-align: right;\">\n",
       "      <th></th>\n",
       "      <th>Logistic</th>\n",
       "      <th>SVML</th>\n",
       "      <th>SVMNL</th>\n",
       "      <th>KNN</th>\n",
       "      <th>NB</th>\n",
       "      <th>DecisionTree</th>\n",
       "      <th>RandomForest</th>\n",
       "    </tr>\n",
       "  </thead>\n",
       "  <tbody>\n",
       "    <tr>\n",
       "      <th>DecisionTree</th>\n",
       "      <td>0.95</td>\n",
       "      <td>0.96</td>\n",
       "      <td>0.96</td>\n",
       "      <td>0.93</td>\n",
       "      <td>0.87</td>\n",
       "      <td>0.96</td>\n",
       "      <td>0.97</td>\n",
       "    </tr>\n",
       "    <tr>\n",
       "      <th>RandomForest</th>\n",
       "      <td>0.96</td>\n",
       "      <td>0.97</td>\n",
       "      <td>0.97</td>\n",
       "      <td>0.96</td>\n",
       "      <td>0.88</td>\n",
       "      <td>0.98</td>\n",
       "      <td>0.98</td>\n",
       "    </tr>\n",
       "  </tbody>\n",
       "</table>\n",
       "</div>"
      ],
      "text/plain": [
       "             Logistic  SVML SVMNL   KNN    NB DecisionTree RandomForest\n",
       "DecisionTree     0.95  0.96  0.96  0.93  0.87         0.96         0.97\n",
       "RandomForest     0.96  0.97  0.97  0.96  0.88         0.98         0.98"
      ]
     },
     "execution_count": 23,
     "metadata": {},
     "output_type": "execute_result"
    }
   ],
   "source": [
    "result\n",
    "# for n=6"
   ]
  },
  {
   "cell_type": "code",
   "execution_count": 25,
   "id": "b588bde6",
   "metadata": {},
   "outputs": [
    {
     "data": {
      "text/html": [
       "<div>\n",
       "<style scoped>\n",
       "    .dataframe tbody tr th:only-of-type {\n",
       "        vertical-align: middle;\n",
       "    }\n",
       "\n",
       "    .dataframe tbody tr th {\n",
       "        vertical-align: top;\n",
       "    }\n",
       "\n",
       "    .dataframe thead th {\n",
       "        text-align: right;\n",
       "    }\n",
       "</style>\n",
       "<table border=\"1\" class=\"dataframe\">\n",
       "  <thead>\n",
       "    <tr style=\"text-align: right;\">\n",
       "      <th></th>\n",
       "      <th>Logistic</th>\n",
       "      <th>SVML</th>\n",
       "      <th>SVMNL</th>\n",
       "      <th>KNN</th>\n",
       "      <th>NB</th>\n",
       "      <th>DecisionTree</th>\n",
       "      <th>RandomForest</th>\n",
       "    </tr>\n",
       "  </thead>\n",
       "  <tbody>\n",
       "    <tr>\n",
       "      <th>DecisionTree</th>\n",
       "      <td>0.95</td>\n",
       "      <td>0.97</td>\n",
       "      <td>0.97</td>\n",
       "      <td>0.95</td>\n",
       "      <td>0.81</td>\n",
       "      <td>0.95</td>\n",
       "      <td>0.96</td>\n",
       "    </tr>\n",
       "    <tr>\n",
       "      <th>RandomForest</th>\n",
       "      <td>0.95</td>\n",
       "      <td>0.97</td>\n",
       "      <td>0.97</td>\n",
       "      <td>0.96</td>\n",
       "      <td>0.84</td>\n",
       "      <td>0.94</td>\n",
       "      <td>0.97</td>\n",
       "    </tr>\n",
       "  </tbody>\n",
       "</table>\n",
       "</div>"
      ],
      "text/plain": [
       "             Logistic  SVML SVMNL   KNN    NB DecisionTree RandomForest\n",
       "DecisionTree     0.95  0.97  0.97  0.95  0.81         0.95         0.96\n",
       "RandomForest     0.95  0.97  0.97  0.96  0.84         0.94         0.97"
      ]
     },
     "execution_count": 25,
     "metadata": {},
     "output_type": "execute_result"
    }
   ],
   "source": [
    "result\n",
    "# for n=7"
   ]
  },
  {
   "cell_type": "code",
   "execution_count": null,
   "id": "54c67bca",
   "metadata": {},
   "outputs": [],
   "source": []
  }
 ],
 "metadata": {
  "kernelspec": {
   "display_name": "Python 3 (ipykernel)",
   "language": "python",
   "name": "python3"
  },
  "language_info": {
   "codemirror_mode": {
    "name": "ipython",
    "version": 3
   },
   "file_extension": ".py",
   "mimetype": "text/x-python",
   "name": "python",
   "nbconvert_exporter": "python",
   "pygments_lexer": "ipython3",
   "version": "3.7.1"
  }
 },
 "nbformat": 4,
 "nbformat_minor": 5
}
